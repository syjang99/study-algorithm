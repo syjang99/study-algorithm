{
 "cells": [
  {
   "cell_type": "markdown",
   "metadata": {},
   "source": [
    "# Ch 3. Sorting Algorithms"
   ]
  },
  {
   "cell_type": "markdown",
   "metadata": {},
   "source": [
    "##  📌  Insertion Sort\n",
    "- Start from an empty sorted region and the region of items to sort.\n",
    "  - For each item in unsorted region, put in the right position in sorted region.\n",
    "  - When unsorted region becomes empty, you are done.\n",
    "- Time complexity is **O(N^2)**.\n",
    "  - But when the list is almost sorted, complexity is around **O(N)**!"
   ]
  },
  {
   "cell_type": "code",
   "execution_count": 23,
   "metadata": {},
   "outputs": [],
   "source": [
    "def insertion_sort(list):\n",
    "    for i in range(1,len(list)):     #2번째 값부터 sort\n",
    "        key = list[i]                #key에 미리 저장하기 \n",
    "        j = i-1                      #왼쪽 바로 옆 값부터 비교\n",
    "        while j>=0 and key<list[j]: #j=-1 되거나 배열 맞으면 (왼쪽보다 값이 더 큼) loop 중단 \n",
    "            list[j+1] =list[j]       #아닌 경우 왼-오 자리 바꾸기\n",
    "            j -= 1                   #그 다음 왼쪽 값 확인\n",
    "        list[j+1] = key              #더 작으면 나가서 알맞은 index에 key값 저장 (loop 끝난 후 해도 됨) \n",
    "    return list"
   ]
  },
  {
   "cell_type": "code",
   "execution_count": 24,
   "metadata": {
    "scrolled": true
   },
   "outputs": [
    {
     "data": {
      "text/plain": [
       "[2, 5, 25, 63, 105, 167]"
      ]
     },
     "execution_count": 24,
     "metadata": {},
     "output_type": "execute_result"
    }
   ],
   "source": [
    "insertion_sort([105,25,167,2,63,5])"
   ]
  },
  {
   "cell_type": "code",
   "execution_count": 25,
   "metadata": {},
   "outputs": [
    {
     "data": {
      "text/plain": [
       "[1, 2, 3, 4, 5]"
      ]
     },
     "execution_count": 25,
     "metadata": {},
     "output_type": "execute_result"
    }
   ],
   "source": [
    "insertion_sort([3,4,2,1,5])"
   ]
  },
  {
   "cell_type": "code",
   "execution_count": null,
   "metadata": {},
   "outputs": [],
   "source": [
    "## My version\n",
    "def insertion_sort(list_):\n",
    "    for i in range(1, len(list_)):\n",
    "        for j in range(i):\n",
    "            if list_[i] < list_[j]: \n",
    "                list_ = list_[:j] + [list_[i]] + list_[j:i] + list_[i+1:]\n",
    "                break\n",
    "    return list_"
   ]
  },
  {
   "cell_type": "markdown",
   "metadata": {},
   "source": [
    "##  📌 Selection Sort\n",
    "- Opposite of insertion sort!\n",
    "  - Find the smallest value in unsorted region, and swap it with the value in correct position.\n",
    "- Time complexity is **O(N^2)**, same as insertion sort.\n",
    "  - Finding smallest value = O(1) ~ O(N-i) = O(N) * N iterations\n",
    "- No benefit when list is almost sorted, unlike insertion sort.\n",
    "- Can solve this using recursion!"
   ]
  },
  {
   "cell_type": "markdown",
   "metadata": {},
   "source": [
    "### Selection sort without recursion"
   ]
  },
  {
   "cell_type": "code",
   "execution_count": 50,
   "metadata": {},
   "outputs": [],
   "source": [
    "def selection_sort(list):\n",
    "    for i in range(len(list)):\n",
    "        smallest = i\n",
    "        for j in range(i,len(list)):\n",
    "            if list[j] < list[smallest]:\n",
    "                smallest = j\n",
    "        list[i], list[smallest] = list[smallest], list[i]\n",
    "    return list"
   ]
  },
  {
   "cell_type": "code",
   "execution_count": 51,
   "metadata": {},
   "outputs": [
    {
     "data": {
      "text/plain": [
       "[2, 5, 25, 63, 105, 167]"
      ]
     },
     "execution_count": 51,
     "metadata": {},
     "output_type": "execute_result"
    }
   ],
   "source": [
    "selection_sort([105,25,167,2,63,5])"
   ]
  },
  {
   "cell_type": "code",
   "execution_count": null,
   "metadata": {},
   "outputs": [],
   "source": [
    "## My version\n",
    "def selection_sort(list_):\n",
    "    for i in range(len(list_)):\n",
    "        for j in range(i+1, len(list_)):\n",
    "            if list_[j] < list_[i]:\n",
    "                temp = list_[i]\n",
    "                list_[i] = list_[j]\n",
    "                list_[j] = temp\n",
    "    return list_"
   ]
  },
  {
   "cell_type": "markdown",
   "metadata": {},
   "source": [
    "### Selection sort with recursion"
   ]
  },
  {
   "cell_type": "code",
   "execution_count": null,
   "metadata": {},
   "outputs": [],
   "source": [
    "def swap(A,i,j):\n",
    "    temp = A[i]\n",
    "    A[i] = A[j]\n",
    "    A[j] = temp\n",
    " \n",
    "# Recursive function to perform selection sort on sublist `A[i…n-1]`\n",
    "def selectionSort(A, i, n):\n",
    "    # find the minimum element in the unsorted sublist `A[i…n-1]`\n",
    "    # and swap it with `A[i]`\n",
    "    min = i\n",
    "    for j in range(i + 1, n):\n",
    " \n",
    "        # if the `A[j]` element is less, then it is the new minimum\n",
    "        if A[j] < A[min]:\n",
    "            min = j            # update the index of minimum element\n",
    " \n",
    "    # swap the minimum element in sublist `A[i…n-1]` with `A[i]`\n",
    "    swap(A, min, i)\n",
    " \n",
    "    if i + 1 < n:\n",
    "        selectionSort(A, i + 1, n)"
   ]
  },
  {
   "cell_type": "markdown",
   "metadata": {},
   "source": [
    "[Where I got the code above](https://www.techiedelight.com/selection-sort-iterative-recursive/)"
   ]
  },
  {
   "cell_type": "markdown",
   "metadata": {},
   "source": [
    "##  📌 Merge Sort"
   ]
  },
  {
   "cell_type": "markdown",
   "metadata": {},
   "source": [
    "### Merge sort with recursion"
   ]
  },
  {
   "cell_type": "code",
   "execution_count": 1,
   "metadata": {},
   "outputs": [],
   "source": [
    "## merge sort w/ recursion\n",
    "def merge_sort(list):\n",
    "    if len(list)>1:\n",
    "        mid = len(list)//2\n",
    "        left = list[:mid]\n",
    "        right = list[mid:]\n",
    "        \n",
    "        left = merge_sort(left)\n",
    "        right = merge_sort(right)\n",
    "        \n",
    "        i=0 \n",
    "        j=0\n",
    "        sorted_list = []        \n",
    "        while i<len(left) and j<len(right):\n",
    "            if left[i] < right[j]:\n",
    "                sorted_list.append(left[i])\n",
    "                i+=1\n",
    "            elif left[i] > right[j]:\n",
    "                sorted_list.append(right[j])\n",
    "                j+=1\n",
    "        \n",
    "        # 나머지 넣기\n",
    "        if i<len(left):\n",
    "            sorted_list += left[i:]\n",
    "        if j<len(right):\n",
    "            sorted_list += right[j:]\n",
    "        return sorted_list\n",
    "    else:\n",
    "        return list"
   ]
  },
  {
   "cell_type": "code",
   "execution_count": 2,
   "metadata": {},
   "outputs": [
    {
     "data": {
      "text/plain": [
       "[1, 3, 4, 7, 8]"
      ]
     },
     "execution_count": 2,
     "metadata": {},
     "output_type": "execute_result"
    }
   ],
   "source": [
    "merge_sort([3,1,8,7,4])"
   ]
  },
  {
   "cell_type": "markdown",
   "metadata": {},
   "source": [
    "## 📌 Counting Sort"
   ]
  },
  {
   "cell_type": "code",
   "execution_count": 15,
   "metadata": {},
   "outputs": [],
   "source": [
    "## counting sort\n",
    "def counting_sort(list_):\n",
    "    # Make an ordered list from 0 to the largest number in list\n",
    "    counts = [0]* (max(list_)+1)\n",
    "    \n",
    "    # Save the number of occurence in that list\n",
    "    for i in range(len(list_)):\n",
    "        counts[list_[i]] += 1\n",
    "    \n",
    "    # Calculate cumulative sum\n",
    "    for i in range(1, len(counts)):\n",
    "        counts[i] += counts[i-1]\n",
    "    \n",
    "    # Use the index info to sort the original list\n",
    "    sorted_list = [0]*len(list_)\n",
    "    \n",
    "    i = len(list_)-1\n",
    "    while i >= 0:\n",
    "        counts[list_[i]] -= 1\n",
    "        idx = counts[list_[i]] \n",
    "        sorted_list[idx] = list_[i]\n",
    "        i-=1\n",
    "    \n",
    "    return sorted_list"
   ]
  },
  {
   "cell_type": "code",
   "execution_count": 16,
   "metadata": {},
   "outputs": [
    {
     "data": {
      "text/plain": [
       "[1, 2, 4, 5, 5]"
      ]
     },
     "execution_count": 16,
     "metadata": {},
     "output_type": "execute_result"
    }
   ],
   "source": [
    "counting_sort([2,4,1,5,5])"
   ]
  },
  {
   "cell_type": "markdown",
   "metadata": {},
   "source": [
    "### 📌 (추가) sort vs. np.sort"
   ]
  },
  {
   "cell_type": "code",
   "execution_count": 29,
   "metadata": {},
   "outputs": [
    {
     "name": "stdout",
     "output_type": "stream",
     "text": [
      "[1, 2, 3, 4, 5, 6]\n"
     ]
    }
   ],
   "source": [
    "a = [1,4,5,6,2,3]\n",
    "a.sort()\n",
    "print(a) "
   ]
  },
  {
   "cell_type": "code",
   "execution_count": null,
   "metadata": {},
   "outputs": [],
   "source": [
    "import numpy as np"
   ]
  },
  {
   "cell_type": "code",
   "execution_count": 5,
   "metadata": {},
   "outputs": [
    {
     "name": "stdout",
     "output_type": "stream",
     "text": [
      "[1 2 3 4 5 6]\n",
      "[1, 4, 5, 6, 2, 3]\n"
     ]
    }
   ],
   "source": [
    "a = [1,4,5,6,2,3]\n",
    "print(np.sort(a))\n",
    "print(a)"
   ]
  }
 ],
 "metadata": {
  "kernelspec": {
   "display_name": "Python 3",
   "language": "python",
   "name": "python3"
  },
  "language_info": {
   "codemirror_mode": {
    "name": "ipython",
    "version": 3
   },
   "file_extension": ".py",
   "mimetype": "text/x-python",
   "name": "python",
   "nbconvert_exporter": "python",
   "pygments_lexer": "ipython3",
   "version": "3.8.5"
  }
 },
 "nbformat": 4,
 "nbformat_minor": 4
}
