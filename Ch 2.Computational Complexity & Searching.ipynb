{
 "cells": [
  {
   "cell_type": "markdown",
   "metadata": {},
   "source": [
    "# Ch 2. Computational Complexity & Searching"
   ]
  },
  {
   "cell_type": "markdown",
   "metadata": {},
   "source": [
    "##  📌 Searching Problem\n",
    "- Given a list of objects and a single target, return its index if it exists.  \n",
    "- Depending on whether the list is sorted or not, adequte searching algorithm may differ."
   ]
  },
  {
   "cell_type": "markdown",
   "metadata": {},
   "source": [
    "## 📌 Linear Search\n",
    "- Simple - just check one by one from the beginning.  \n",
    "- Time complexity is **O(N)**"
   ]
  },
  {
   "cell_type": "code",
   "execution_count": 6,
   "metadata": {},
   "outputs": [],
   "source": [
    "def linear_search(list, value):\n",
    "    for i in range(len(list)):\n",
    "        if list[i] == value:\n",
    "            return i\n",
    "    return \"Not in list\""
   ]
  },
  {
   "cell_type": "code",
   "execution_count": 8,
   "metadata": {},
   "outputs": [
    {
     "data": {
      "text/plain": [
       "2"
      ]
     },
     "execution_count": 8,
     "metadata": {},
     "output_type": "execute_result"
    }
   ],
   "source": [
    "linear_search([1,3,6,2,4],6)"
   ]
  },
  {
   "cell_type": "code",
   "execution_count": 7,
   "metadata": {
    "scrolled": true
   },
   "outputs": [
    {
     "data": {
      "text/plain": [
       "'Not in list'"
      ]
     },
     "execution_count": 7,
     "metadata": {},
     "output_type": "execute_result"
    }
   ],
   "source": [
    "linear_search([1,3,6,2,4],7)"
   ]
  },
  {
   "cell_type": "markdown",
   "metadata": {},
   "source": [
    "## 📌 Binary Search\n",
    "- Check what value is stored in the middle.  \n",
    "  - If it is smaller than the target, we can ignore all values before this.  \n",
    "  - Otherwise, we can ignore all values after this.  \n",
    "- When given a sorted list of objects, binary search is better than linear search!"
   ]
  },
  {
   "cell_type": "markdown",
   "metadata": {},
   "source": [
    "##  📌 Recursion\n",
    "- An algorithm that calls itself for subproblem.  \n",
    "- **Examples**: binary search, elementary division, sorting, tree traversal  \n",
    "- **Base Case**: simplest case that doesn't require recursive call w/ usually complexity of O(1)  \n",
    "- **General Case**: solves the exact same problem in a strictly smaller scale by one or more recursive recall(s)"
   ]
  },
  {
   "cell_type": "markdown",
   "metadata": {},
   "source": [
    "### Binary search without recursion\n",
    "- Update the first and last index of list considered in each step.  \n",
    "- Time complexity is reduced to **O(logN)**! Better than linear search :)"
   ]
  },
  {
   "cell_type": "code",
   "execution_count": 56,
   "metadata": {},
   "outputs": [],
   "source": [
    "def binary_search(sorted_list, value):\n",
    "    first = 0\n",
    "    last = len(sorted_list)-1\n",
    "    #i=1\n",
    "    while first <= last:\n",
    "        med = (first+last)//2\n",
    "        if value == sorted_list[med]:\n",
    "            return med\n",
    "        elif value < sorted_list[med]:\n",
    "            last = med - 1\n",
    "        else:\n",
    "            first = med + 1\n",
    "        #print(\"Step \"+str(i))\n",
    "        #print(sorted_list[first:last+1])\n",
    "        #i+=1\n",
    "    return -1 "
   ]
  },
  {
   "cell_type": "code",
   "execution_count": 28,
   "metadata": {
    "scrolled": true
   },
   "outputs": [
    {
     "name": "stdout",
     "output_type": "stream",
     "text": [
      "Step 1\n",
      "[6, 8, 16]\n",
      "Step 2\n",
      "[6]\n"
     ]
    },
    {
     "data": {
      "text/plain": [
       "3"
      ]
     },
     "execution_count": 28,
     "metadata": {},
     "output_type": "execute_result"
    }
   ],
   "source": [
    "binary_search([1,2,4,6,8,16], 6)"
   ]
  },
  {
   "cell_type": "code",
   "execution_count": 29,
   "metadata": {
    "scrolled": true
   },
   "outputs": [
    {
     "name": "stdout",
     "output_type": "stream",
     "text": [
      "Step 1\n",
      "[6, 8, 16]\n",
      "Step 2\n",
      "[6]\n",
      "Step 3\n",
      "[]\n"
     ]
    },
    {
     "data": {
      "text/plain": [
       "-1"
      ]
     },
     "execution_count": 29,
     "metadata": {},
     "output_type": "execute_result"
    }
   ],
   "source": [
    "binary_search([1,2,4,6,8,16], 7)"
   ]
  },
  {
   "cell_type": "markdown",
   "metadata": {},
   "source": [
    "### Binary search with recursion\n",
    "- Turns out recursion is not useful in binary search. Time complexity is still **O(logN)** :("
   ]
  },
  {
   "cell_type": "code",
   "execution_count": 52,
   "metadata": {},
   "outputs": [],
   "source": [
    "## Original version\n",
    "def binary_search(arr, x, m, n):\n",
    "    if m > n:\n",
    "        return \"Not in array\"\n",
    "    else:\n",
    "        med = (m+n) //2\n",
    "        if x == arr[med]:\n",
    "            return med\n",
    "        elif x > arr[med]:\n",
    "            m = med + 1\n",
    "            return binary_search(arr, x, m, n)\n",
    "        else:\n",
    "            n = med - 1\n",
    "            return binary_search(arr, x, m, n)"
   ]
  },
  {
   "cell_type": "code",
   "execution_count": 53,
   "metadata": {
    "scrolled": true
   },
   "outputs": [
    {
     "data": {
      "text/plain": [
       "3"
      ]
     },
     "execution_count": 53,
     "metadata": {},
     "output_type": "execute_result"
    }
   ],
   "source": [
    "binary_search([1,2,4,6,8,16], 6, 0, 5)"
   ]
  },
  {
   "cell_type": "code",
   "execution_count": 55,
   "metadata": {},
   "outputs": [
    {
     "data": {
      "text/plain": [
       "-1"
      ]
     },
     "execution_count": 55,
     "metadata": {},
     "output_type": "execute_result"
    }
   ],
   "source": [
    "binary_search([1,2,4,6,8,16], 7, 0, 5)"
   ]
  },
  {
   "cell_type": "code",
   "execution_count": 1,
   "metadata": {},
   "outputs": [],
   "source": [
    "## To use recursion, you need to pointers as input!! \n",
    "def binary_search_fail(sorted_list, value):\n",
    "    n = len(sorted_list)\n",
    "    if n <= 0:\n",
    "        return -1\n",
    "    else:\n",
    "        med = n//2\n",
    "        if value == sorted_list[med]:\n",
    "            return med\n",
    "        elif value < sorted_list[med]:\n",
    "            sorted_list = sorted_list[:med]\n",
    "            return binary_search_r2(sorted_list, value)\n",
    "        else:\n",
    "            sorted_list = sorted_list[med+1:]\n",
    "            return binary_search_r2(sorted_list, value)"
   ]
  },
  {
   "cell_type": "code",
   "execution_count": 3,
   "metadata": {},
   "outputs": [
    {
     "data": {
      "text/plain": [
       "0"
      ]
     },
     "execution_count": 3,
     "metadata": {},
     "output_type": "execute_result"
    }
   ],
   "source": [
    "binary_search_r2([1,2,4,6,8,16], 8) # wrong"
   ]
  },
  {
   "cell_type": "markdown",
   "metadata": {},
   "source": [
    "## 📌String Reversion"
   ]
  },
  {
   "cell_type": "markdown",
   "metadata": {},
   "source": [
    "### Short review on strings.."
   ]
  },
  {
   "cell_type": "code",
   "execution_count": 60,
   "metadata": {},
   "outputs": [
    {
     "data": {
      "text/plain": [
       "'l'"
      ]
     },
     "execution_count": 60,
     "metadata": {},
     "output_type": "execute_result"
    }
   ],
   "source": [
    "\"apple\"[-2] # negative index -> reversed"
   ]
  },
  {
   "cell_type": "code",
   "execution_count": 77,
   "metadata": {},
   "outputs": [
    {
     "data": {
      "text/plain": [
       "'e'"
      ]
     },
     "execution_count": 77,
     "metadata": {},
     "output_type": "execute_result"
    }
   ],
   "source": [
    "\"apple\"[-1:]  # start from the last letter"
   ]
  },
  {
   "cell_type": "code",
   "execution_count": 78,
   "metadata": {
    "scrolled": true
   },
   "outputs": [
    {
     "data": {
      "text/plain": [
       "'appl'"
      ]
     },
     "execution_count": 78,
     "metadata": {},
     "output_type": "execute_result"
    }
   ],
   "source": [
    "\"apple\"[:-1] # end before last letter"
   ]
  },
  {
   "cell_type": "code",
   "execution_count": 1,
   "metadata": {
    "scrolled": false
   },
   "outputs": [
    {
     "data": {
      "text/plain": [
       "True"
      ]
     },
     "execution_count": 1,
     "metadata": {},
     "output_type": "execute_result"
    }
   ],
   "source": [
    "not \"\" # not blank string = True "
   ]
  },
  {
   "cell_type": "code",
   "execution_count": 4,
   "metadata": {},
   "outputs": [
    {
     "name": "stdout",
     "output_type": "stream",
     "text": [
      "False\n",
      "False\n"
     ]
    }
   ],
   "source": [
    "print(\"\" == None)\n",
    "print(\"\" == False) \n",
    "# WHY?"
   ]
  },
  {
   "cell_type": "markdown",
   "metadata": {},
   "source": [
    "### String reversion without recursion"
   ]
  },
  {
   "cell_type": "code",
   "execution_count": 67,
   "metadata": {},
   "outputs": [],
   "source": [
    "def reverse_string(string):\n",
    "    output=\"\"\n",
    "    for i in range(len(string)):\n",
    "        output += string[-i-1] # or string[len(string)-i-1]\n",
    "            #cannot assign with index since length=0\n",
    "    return output"
   ]
  },
  {
   "cell_type": "code",
   "execution_count": 68,
   "metadata": {
    "scrolled": true
   },
   "outputs": [
    {
     "data": {
      "text/plain": [
       "'elppa'"
      ]
     },
     "execution_count": 68,
     "metadata": {},
     "output_type": "execute_result"
    }
   ],
   "source": [
    "reverse_string(\"apple\")"
   ]
  },
  {
   "cell_type": "markdown",
   "metadata": {},
   "source": [
    "### String reversion with recursion"
   ]
  },
  {
   "cell_type": "code",
   "execution_count": 1,
   "metadata": {},
   "outputs": [],
   "source": [
    "def reverse_string_r(string):\n",
    "    if not string:    #string이 False면 True됨   #or len(string)==0\n",
    "        return string\n",
    "    else:\n",
    "        return string[-1] + reverse_string_r(string[:-1])"
   ]
  },
  {
   "cell_type": "code",
   "execution_count": 2,
   "metadata": {},
   "outputs": [
    {
     "data": {
      "text/plain": [
       "'elppa'"
      ]
     },
     "execution_count": 2,
     "metadata": {},
     "output_type": "execute_result"
    }
   ],
   "source": [
    "reverse_string_r(\"apple\")"
   ]
  },
  {
   "cell_type": "markdown",
   "metadata": {},
   "source": [
    "## 📌 Combination \n",
    "- A case where using recursion is not efficient!"
   ]
  },
  {
   "cell_type": "markdown",
   "metadata": {},
   "source": [
    "### Combination without recursion"
   ]
  },
  {
   "cell_type": "code",
   "execution_count": 32,
   "metadata": {},
   "outputs": [],
   "source": [
    "# My version\n",
    "from numpy import math\n",
    "\n",
    "def comb(n,r):\n",
    "    if r==0:\n",
    "        ans = 1\n",
    "    elif r > 0 and r <= n:\n",
    "        ans = math.factorial(n)/ (math.factorial(n-r) * math.factorial(r))\n",
    "    else:\n",
    "        ans = 0\n",
    "    return ans"
   ]
  },
  {
   "cell_type": "code",
   "execution_count": 33,
   "metadata": {},
   "outputs": [
    {
     "data": {
      "text/plain": [
       "10.0"
      ]
     },
     "execution_count": 33,
     "metadata": {},
     "output_type": "execute_result"
    }
   ],
   "source": [
    "comb(5,3)"
   ]
  },
  {
   "cell_type": "code",
   "execution_count": 34,
   "metadata": {},
   "outputs": [
    {
     "data": {
      "text/plain": [
       "1"
      ]
     },
     "execution_count": 34,
     "metadata": {},
     "output_type": "execute_result"
    }
   ],
   "source": [
    "comb(10,0)"
   ]
  },
  {
   "cell_type": "markdown",
   "metadata": {},
   "source": [
    "### Combination with recursion"
   ]
  },
  {
   "cell_type": "code",
   "execution_count": 11,
   "metadata": {},
   "outputs": [],
   "source": [
    "def comb_r(n,r):\n",
    "    if r==0 or r==n:\n",
    "        return 1\n",
    "    elif r>n:\n",
    "        return 0\n",
    "    else:\n",
    "        return comb_r(n-1,r) + comb_r(n-1,r-1)"
   ]
  },
  {
   "cell_type": "code",
   "execution_count": 12,
   "metadata": {},
   "outputs": [
    {
     "data": {
      "text/plain": [
       "10"
      ]
     },
     "execution_count": 12,
     "metadata": {},
     "output_type": "execute_result"
    }
   ],
   "source": [
    "comb_r(5,3)"
   ]
  },
  {
   "cell_type": "code",
   "execution_count": 9,
   "metadata": {},
   "outputs": [
    {
     "data": {
      "text/plain": [
       "1"
      ]
     },
     "execution_count": 9,
     "metadata": {},
     "output_type": "execute_result"
    }
   ],
   "source": [
    "comb(10,0)"
   ]
  },
  {
   "cell_type": "code",
   "execution_count": 10,
   "metadata": {},
   "outputs": [
    {
     "data": {
      "text/plain": [
       "0"
      ]
     },
     "execution_count": 10,
     "metadata": {},
     "output_type": "execute_result"
    }
   ],
   "source": [
    "comb(2,3)"
   ]
  }
 ],
 "metadata": {
  "kernelspec": {
   "display_name": "Python 3",
   "language": "python",
   "name": "python3"
  },
  "language_info": {
   "codemirror_mode": {
    "name": "ipython",
    "version": 3
   },
   "file_extension": ".py",
   "mimetype": "text/x-python",
   "name": "python",
   "nbconvert_exporter": "python",
   "pygments_lexer": "ipython3",
   "version": "3.8.5"
  }
 },
 "nbformat": 4,
 "nbformat_minor": 4
}
