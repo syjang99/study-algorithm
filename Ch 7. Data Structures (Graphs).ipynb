{
 "cells": [
  {
   "cell_type": "markdown",
   "metadata": {},
   "source": [
    "# Ch 7. Data Structures (Graphs)"
   ]
  },
  {
   "cell_type": "markdown",
   "metadata": {},
   "source": [
    "# Graphs  \n",
    "\n",
    "### Definitions\n",
    "- graph: vertex과 edge들의 집합\n",
    "    - 예) 지하철 노선도, 뇌 네트워크 \n",
    "- subgraph: subset of graph\n",
    "- adjacent: edge로 연결되는 두 개의 vertex 관계\n",
    "- path: 연결된 edge들의 sequence\n",
    "- cycle: 출발점과 도착점이 같은 path\n",
    "- simple path: cycle 없는 path\n",
    "- simple cycle: 안에 cycle 없는 cycle\n",
    "- connected vs. disconnected graph: 한 점에서 다른 점으로 모두 연결 가능한지 \n",
    "- complete vs. incomplete graph: 모든 점의 쌍들이 연결되었는지 \n",
    "- directed vs. undirected graph: edge에 방향 있는지\n",
    "- weighted vs. unweighted graph: edge에 가중치 있는지\n",
    "- tree = connected graph with no cycle!"
   ]
  },
  {
   "cell_type": "markdown",
   "metadata": {},
   "source": [
    "### Adjacency matrix\n",
    "- similar to array-based implementation!\n",
    "- random access with O(1)\n",
    "- inefficient use of memory if sparsely connected"
   ]
  },
  {
   "cell_type": "markdown",
   "metadata": {},
   "source": [
    "### Adjacency list*\n",
    "- similar to reference-based implementation!\n",
    "- efficient use of memory if sparsely connected\n",
    "- need linear search (not a problem if graph is sparse enough)"
   ]
  },
  {
   "cell_type": "markdown",
   "metadata": {},
   "source": [
    "### Undirected graph"
   ]
  },
  {
   "cell_type": "code",
   "execution_count": 20,
   "metadata": {},
   "outputs": [],
   "source": [
    "class undirected_graph():\n",
    "    def __init__(self, nodes, edges):\n",
    "        self.v = nodes[:]\n",
    "        self.e = {} \n",
    "        for node in nodes:\n",
    "            self.e[node] = []\n",
    "            #일단 비워놓기\n",
    "        for (u, v) in edges:\n",
    "            #undirected\n",
    "            self.e[v].append(u) \n",
    "            self.e[u].append(v)"
   ]
  },
  {
   "cell_type": "code",
   "execution_count": 21,
   "metadata": {},
   "outputs": [
    {
     "name": "stdout",
     "output_type": "stream",
     "text": [
      "{'a': ['b'], 'b': ['a', 'c'], 'c': ['b']}\n"
     ]
    }
   ],
   "source": [
    "v = ['a', 'b', 'c'] \n",
    "e = [('a', 'b'), ('b', 'c')] \n",
    "graph = undirected_graph(v, e) \n",
    "print(graph.e)"
   ]
  },
  {
   "cell_type": "markdown",
   "metadata": {},
   "source": [
    "### Directed graph"
   ]
  },
  {
   "cell_type": "code",
   "execution_count": 8,
   "metadata": {},
   "outputs": [],
   "source": [
    "class directed_graph():\n",
    "    def __init__(self, nodes, edges):\n",
    "        self.v = nodes[:]\n",
    "        self.e = {} \n",
    "        for node in nodes:\n",
    "            self.e[node] = []\n",
    "        for (u, v) in edges:\n",
    "            #directed\n",
    "            self.e[u].append(v) "
   ]
  },
  {
   "cell_type": "code",
   "execution_count": 12,
   "metadata": {},
   "outputs": [
    {
     "name": "stdout",
     "output_type": "stream",
     "text": [
      "{'a': ['b'], 'b': ['c'], 'c': []}\n"
     ]
    }
   ],
   "source": [
    "v = ['a', 'b', 'c'] \n",
    "e = [('a', 'b'), ('b', 'c')] \n",
    "graph = directed_graph(v, e) \n",
    "print(graph.e)"
   ]
  },
  {
   "cell_type": "markdown",
   "metadata": {},
   "source": [
    "### Weighted graph"
   ]
  },
  {
   "cell_type": "code",
   "execution_count": 3,
   "metadata": {},
   "outputs": [],
   "source": [
    "class weighted_graph():\n",
    "    def __init__(self, nodes, edges):\n",
    "        self.v = nodes[:]\n",
    "        self.e = {} \n",
    "        self.w = {}\n",
    "        for node in nodes:\n",
    "            self.e[node] = []\n",
    "        for (u, v, w) in edges:\n",
    "            self.e[u].append([v,w])\n",
    "            self.e[v].append([u,w])"
   ]
  },
  {
   "cell_type": "code",
   "execution_count": 47,
   "metadata": {
    "scrolled": true
   },
   "outputs": [
    {
     "name": "stdout",
     "output_type": "stream",
     "text": [
      "{'a': [['b', 5], ['i', 4], ['f', 10]], 'b': [['a', 5], ['c', 3], ['e', 3]], 'c': [['b', 3], ['e', 3], ['d', 3]], 'd': [['c', 3], ['h', 3], ['g', 5]], 'e': [['b', 3], ['c', 3], ['g', 2]], 'f': [['a', 10], ['g', 4]], 'g': [['e', 2], ['d', 5], ['f', 4]], 'h': [['d', 3]], 'i': [['a', 4]]}\n"
     ]
    }
   ],
   "source": [
    "v = ['a', 'b', 'c', 'd', 'e','f','g','h','i']  \n",
    "e = [('a','b',5), ('a','i',4),('a','f',10), ('b','c',3), ('b','e',3), \n",
    "     ('c','e',3), ('e','g',2), ('c','d',3), ('d','h',3), ('d','g',5),('g','f',4)]\n",
    "graph = weighted_graph(v, e) \n",
    "# print(graph.e)\n",
    "print(graph.e)"
   ]
  },
  {
   "cell_type": "markdown",
   "metadata": {},
   "source": [
    "### What to consider when designing a graph:\n",
    "- What is the graph for? What data to be stored?\n",
    "- How big will be the graph?\n",
    "- Is the graph expected to be sparse or dense?\n",
    "- What operations are we going to use most frequently?\n",
    "- Is the node & edge likely static or dynamic?"
   ]
  },
  {
   "cell_type": "markdown",
   "metadata": {},
   "source": [
    "## Graph Traversal\n",
    "### 1. Depth First Search (DFS)\n",
    "- 갈 수 있는 곳까지 모두 탐색한 다음에 더 이상 없으면 탐색 안 한 부분 나올 때까지 backtrack\n",
    "- stack 자료구조 활용!  "
   ]
  },
  {
   "cell_type": "code",
   "execution_count": 45,
   "metadata": {},
   "outputs": [],
   "source": [
    "class Stack():\n",
    "    def __init__(self):\n",
    "        self.data = []\n",
    "        self.top = -1\n",
    "        \n",
    "    def push(self, x):\n",
    "        self.data.append(x)\n",
    "        self.top += 1\n",
    "        \n",
    "    def is_empty(self):\n",
    "        return (self.top == -1)\n",
    "    \n",
    "    def peek(self):\n",
    "        if not self.is_empty():\n",
    "            return self.data[self.top]\n",
    "\n",
    "    def pop(self):\n",
    "        if not self.is_empty():\n",
    "            del self.data[self.top]\n",
    "            self.top -= 1"
   ]
  },
  {
   "cell_type": "code",
   "execution_count": 42,
   "metadata": {},
   "outputs": [],
   "source": [
    "def dfs(self):\n",
    "        unvisited = self.v.copy() \n",
    "        stack = Stack() \n",
    "    \n",
    "        while len(unvisited) != 0:\n",
    "            print(unvisited[0]) \n",
    "            stack.push(unvisited[0]) \n",
    "            del unvisited[0]\n",
    "        \n",
    "            while not stack.is_empty():\n",
    "                curr = stack.peek() \n",
    "                curr_connected = self.e[curr].copy()\n",
    "                backtrack = True\n",
    "                for item in curr_connected:\n",
    "                    if item in unvisited:\n",
    "                        print(item)\n",
    "                        stack.push(item)\n",
    "                        unvisited.remove(item)\n",
    "                        backtrack = False\n",
    "                        break\n",
    "                if backtrack:\n",
    "                    stack.pop() # backtracking"
   ]
  },
  {
   "cell_type": "code",
   "execution_count": 43,
   "metadata": {},
   "outputs": [
    {
     "data": {
      "text/plain": [
       "{'a': ['b', 'i', 'f'],\n",
       " 'b': ['a', 'c', 'e'],\n",
       " 'c': ['b', 'e', 'd'],\n",
       " 'd': ['c', 'h', 'g'],\n",
       " 'e': ['b', 'c', 'g'],\n",
       " 'f': ['a', 'g'],\n",
       " 'g': ['e', 'd', 'f'],\n",
       " 'h': ['d'],\n",
       " 'i': ['a']}"
      ]
     },
     "execution_count": 43,
     "metadata": {},
     "output_type": "execute_result"
    }
   ],
   "source": [
    "v = ['a', 'b', 'c', 'd','e','f','g','h','i'] \n",
    "e = [('a', 'b'), ('a','i'),('a','f'), ('b','c'), ('b','e'), \n",
    "     ('c','e'), ('e','g'), ('c','d'), ('d','h'), ('d','g'),('g','f')]\n",
    "graph = undirected_graph(v, e) \n",
    "graph.e"
   ]
  },
  {
   "cell_type": "code",
   "execution_count": 44,
   "metadata": {
    "scrolled": false
   },
   "outputs": [
    {
     "name": "stdout",
     "output_type": "stream",
     "text": [
      "a\n",
      "b\n",
      "c\n",
      "e\n",
      "g\n",
      "d\n",
      "h\n",
      "f\n",
      "i\n"
     ]
    }
   ],
   "source": [
    "dfs(graph)"
   ]
  },
  {
   "cell_type": "markdown",
   "metadata": {},
   "source": [
    "### 2. Breadth First Search (BFS)\n",
    "- 방문할 수 있는 모든 노드 방문 -> 그 노드에서도 똑같이 ..\n",
    "- Time complexity: matrix 쓰면 O(|V|^2), list 쓰면 O(|V|+|E|)\n",
    "    - (1) Dequeue a node from the queue and visit it (call it X).  --> O(1) * loop |V|번\n",
    "    - (2) From the node X, enque all unvisited adjacent nodes.  --> O(1) * loop |E|번\n",
    "- Queue 구조 활용"
   ]
  },
  {
   "cell_type": "code",
   "execution_count": 15,
   "metadata": {},
   "outputs": [],
   "source": [
    "class Queue():\n",
    "    def __init__(self):\n",
    "        self.data = []\n",
    "        self.last = -1\n",
    "    \n",
    "    def is_empty(self):\n",
    "        return (self.last == -1)\n",
    "    \n",
    "    # Enter a new value to the queue \n",
    "    def enqueue(self, x):\n",
    "        self.data.append(x)\n",
    "        self.last += 1\n",
    "    \n",
    "    def dequeue(self):\n",
    "    # Delete the oldest item\n",
    "        del self.data[0]     #사실 이거 말고 다른 방식 써야함..\n",
    "        self.last -= 1\n",
    "    \n",
    "    # Retrieve the oldest item\n",
    "    def peek(self):\n",
    "        if not self.is_empty():\n",
    "            return self.data[0]\n",
    "        else: \n",
    "            return None "
   ]
  },
  {
   "cell_type": "code",
   "execution_count": 38,
   "metadata": {},
   "outputs": [],
   "source": [
    "def bfs(self):\n",
    "    unvisited = self.v.copy() \n",
    "    queue = Queue() \n",
    "    while len(unvisited) != 0:\n",
    "        #일단 제일 첫번째 노드 queue에 넣고 리스트에서 삭제\n",
    "        queue.enqueue(unvisited[0]) \n",
    "        #queue가 빌 때까지\n",
    "        while not queue.is_empty():\n",
    "            #queue 해당 순서 노드 방문 후 dequeue, 리스트 삭제\n",
    "            curr = queue.peek() \n",
    "            print(curr)\n",
    "            queue.dequeue()\n",
    "            unvisited.remove(curr)\n",
    "            #연결된 노드 중 방문 안한 곳 찾아 queue에 추가\n",
    "            curr_connected = self.e[curr].copy()\n",
    "            for item in curr_connected:\n",
    "                if item in unvisited and item not in queue.data:\n",
    "                    queue.enqueue(item)"
   ]
  },
  {
   "cell_type": "code",
   "execution_count": 37,
   "metadata": {
    "scrolled": false
   },
   "outputs": [
    {
     "name": "stdout",
     "output_type": "stream",
     "text": [
      "a\n",
      "b\n",
      "i\n",
      "f\n",
      "c\n",
      "e\n",
      "g\n",
      "d\n",
      "h\n"
     ]
    }
   ],
   "source": [
    "bfs(graph)"
   ]
  },
  {
   "cell_type": "markdown",
   "metadata": {},
   "source": [
    "## 3. Minimum Spanning Trees (Prim's Algorithm)\n",
    "- weighted tree -> minimize the cost!\n",
    "- greedy approach: at each step, choose a least-cost edge connecting the visited region and the unvisited region\n",
    "    - rare case of global optimality\n",
    "- time complexity: **O(|V| • (|V|+|E|))**"
   ]
  },
  {
   "cell_type": "code",
   "execution_count": null,
   "metadata": {},
   "outputs": [],
   "source": [
    "def prims_mst(graph, start):\n",
    "    visited = [start]\n",
    "    unvisited = graph.nodes.remove(start)\n",
    "    mst = []\n",
    "    while not unvisited.is_empty():\n",
    "        e = least-cost edge from visited to unvisited\n",
    "        u = the node consisting of e from the unvisited side\n",
    "        visited.append(u)\n",
    "        unvisited.remove(u)\n",
    "        mst.append(e)"
   ]
  },
  {
   "cell_type": "code",
   "execution_count": 46,
   "metadata": {},
   "outputs": [
    {
     "name": "stdout",
     "output_type": "stream",
     "text": [
      "Edge : Weight\n",
      "\n",
      "0-1:9\n",
      "1-3:19\n",
      "3-4:31\n",
      "3-2:51\n"
     ]
    }
   ],
   "source": [
    "# Prim's Algorithm in Python\n",
    "INF = 9999999\n",
    "# number of vertices in graph\n",
    "V = 5\n",
    "# create a 2d array of size 5x5\n",
    "# for adjacency matrix to represent graph\n",
    "G = [[0, 9, 75, 0, 0],\n",
    "     [9, 0, 95, 19, 42],\n",
    "     [75, 95, 0, 51, 66],\n",
    "     [0, 19, 51, 0, 31],\n",
    "     [0, 42, 66, 31, 0]]\n",
    "# create a array to track selected vertex\n",
    "# selected will become true otherwise false\n",
    "selected = [0, 0, 0, 0, 0]\n",
    "# set number of edge to 0\n",
    "no_edge = 0\n",
    "# the number of egde in minimum spanning tree will be\n",
    "# always less than(V - 1), where V is number of vertices in\n",
    "# graph\n",
    "# choose 0th vertex and make it true\n",
    "selected[0] = True\n",
    "# print for edge and weight\n",
    "print(\"Edge : Weight\\n\")\n",
    "while (no_edge < V - 1):\n",
    "    # For every vertex in the set S, find the all adjacent vertices\n",
    "    #, calculate the distance from the vertex selected at step 1.\n",
    "    # if the vertex is already in the set S, discard it otherwise\n",
    "    # choose another vertex nearest to selected vertex  at step 1.\n",
    "    minimum = INF\n",
    "    x = 0\n",
    "    y = 0\n",
    "    for i in range(V):\n",
    "        if selected[i]:\n",
    "            for j in range(V):\n",
    "                if ((not selected[j]) and G[i][j]):  \n",
    "                    # not in selected and there is an edge\n",
    "                    if minimum > G[i][j]:\n",
    "                        minimum = G[i][j]\n",
    "                        x = i\n",
    "                        y = j\n",
    "    print(str(x) + \"-\" + str(y) + \":\" + str(G[x][y]))\n",
    "    selected[y] = True\n",
    "    no_edge += 1"
   ]
  },
  {
   "cell_type": "markdown",
   "metadata": {},
   "source": [
    "## 4. Topological Sorting\n",
    "- On a directed graph without cycles, list the nodes in “topological order”:\n",
    "    - An order of vertices in which vertex x precedes vertex y if there is an edge from x to y.\n",
    "    - Usually, there are multiple topological orders for a directed graph\n",
    "- Choose a node without successors, put it at the end of the current list.\n",
    "    - Detach the chosen node and all edges to it.\n",
    "    - Recursively solve with the remaining graph, until no node remains.\n",
    "- Time complexity of **O(|V|+|E|)**"
   ]
  },
  {
   "cell_type": "code",
   "execution_count": null,
   "metadata": {},
   "outputs": [],
   "source": [
    "def topological_sort(nodes, edges):\n",
    "    output=[]\n",
    "\n",
    "    for i in range(len(nodes)):\n",
    "        Select a node v that has no successors\n",
    "        output[i] = v\n",
    "        Delete all edges to v from edges\n",
    "        Delete v from nodes\n",
    "    return output.reverse()"
   ]
  }
 ],
 "metadata": {
  "kernelspec": {
   "display_name": "Python 3",
   "language": "python",
   "name": "python3"
  },
  "language_info": {
   "codemirror_mode": {
    "name": "ipython",
    "version": 3
   },
   "file_extension": ".py",
   "mimetype": "text/x-python",
   "name": "python",
   "nbconvert_exporter": "python",
   "pygments_lexer": "ipython3",
   "version": "3.8.5"
  }
 },
 "nbformat": 4,
 "nbformat_minor": 4
}
