{
 "cells": [
  {
   "cell_type": "markdown",
   "metadata": {},
   "source": [
    "# Ch 6. Data Structures (Trees)"
   ]
  },
  {
   "cell_type": "markdown",
   "metadata": {},
   "source": [
    "## Binary Tree\n",
    "- **binary tree**: empty or root + up to two binary trees in left and right\n",
    "- **full binary tree**: empty or both left and right subtrees are full\n",
    "- **complete binary tree**: full to level h-1, level h fill in from left to right\n",
    "- Unless tree is full/complete, reference-based implementation is more efficient than array-based."
   ]
  },
  {
   "cell_type": "markdown",
   "metadata": {},
   "source": [
    "### Tree traversal\n",
    "=> visit all nodes once!\n",
    "- Preorder: Root- left- right\n",
    "- Inorder: Left - root - right\n",
    "- Postorder: Left - right - root"
   ]
  },
  {
   "cell_type": "code",
   "execution_count": 172,
   "metadata": {},
   "outputs": [],
   "source": [
    "class TreeNode():\n",
    "    def __init__(self,x):\n",
    "        self.item = x\n",
    "        self.right = None\n",
    "        self.left  = None\n",
    "        \n",
    "def preorder(node):\n",
    "    if node is not None:\n",
    "        print(node.item)\n",
    "        preorder(node.left)\n",
    "        preorder(node.right)\n",
    "        \n",
    "def inorder(node):\n",
    "    if node is not None:\n",
    "        inorder(node.left)\n",
    "        print(node.item)\n",
    "        inorder(node.right)\n",
    "    \n",
    "def postorder(node):\n",
    "    if node is not None:\n",
    "        postorder(node.left)\n",
    "        postorder(node.right)\n",
    "        print(node.item)"
   ]
  },
  {
   "cell_type": "code",
   "execution_count": 138,
   "metadata": {
    "scrolled": true
   },
   "outputs": [
    {
     "name": "stdout",
     "output_type": "stream",
     "text": [
      "60\n",
      "20\n",
      "30\n"
     ]
    }
   ],
   "source": [
    "new_tree = TreeNode(60)\n",
    "new_tree.left = TreeNode(20)\n",
    "new_tree.right = TreeNode(30)\n",
    "preorder(new_tree)"
   ]
  },
  {
   "cell_type": "code",
   "execution_count": 139,
   "metadata": {
    "scrolled": true
   },
   "outputs": [
    {
     "name": "stdout",
     "output_type": "stream",
     "text": [
      "20\n",
      "60\n",
      "30\n"
     ]
    }
   ],
   "source": [
    "inorder(new_tree)"
   ]
  },
  {
   "cell_type": "code",
   "execution_count": 140,
   "metadata": {
    "scrolled": false
   },
   "outputs": [
    {
     "name": "stdout",
     "output_type": "stream",
     "text": [
      "20\n",
      "30\n",
      "60\n"
     ]
    }
   ],
   "source": [
    "postorder(new_tree)"
   ]
  },
  {
   "cell_type": "markdown",
   "metadata": {},
   "source": [
    "## Binary Search Tree\n",
    "- no duplicates \n",
    "- root greater than left node, smaller than right node\n",
    "- both left and right are binary search trees\n",
    "\n",
    "### Search (Retrieval)\n",
    "- if balanced, closer to O(log(N))\n",
    "- if unbalanced, closer to O(N)\n",
    "\n",
    "### Insertion\n",
    "- failed search -> search until reaching a leaf then insert!\n",
    "\n",
    "### Deletion\n",
    "- leaf -> just delete\n",
    "- single child -> child takes over its position \n",
    "- both children -> immediate successor (left-most node in the right subtree OR right-most node in the left subtree) takes over the position, and its right(OR left) child (if any) is put in its original spot.\n",
    "\n",
    "### Shape\n",
    "- determined by the insertion order"
   ]
  },
  {
   "cell_type": "code",
   "execution_count": 8,
   "metadata": {},
   "outputs": [],
   "source": [
    "class TreeNode():\n",
    "    def __init__(self,x):\n",
    "        self.item = x\n",
    "        self.right = None\n",
    "        self.left  = None\n",
    "        \n",
    "def search(root, key):\n",
    "    while root is not None:\n",
    "        if key == root.item:\n",
    "            return root\n",
    "        elif key < root.item:\n",
    "            if root.left is not None:\n",
    "                root = root.left  # or recursion outside class\n",
    "            else:\n",
    "                return \"not in tree\"\n",
    "        else:\n",
    "            if root.right is not None:\n",
    "                root = root.right # or recursion outside class\n",
    "            else:\n",
    "                return \"not in tree\"     \n",
    "\n",
    "    \n",
    "def insert(root, new_item):\n",
    "    if root is None:\n",
    "        return TreeNode(new_item)\n",
    "    elif new_item == root.item:\n",
    "        print(\"error\")\n",
    "    elif new_item < root.item:\n",
    "        root.left = insert(root.left, new_item)\n",
    "        return root\n",
    "    elif new_item > root.item:\n",
    "        root.right = insert(root.right, new_item) \n",
    "        return root\n",
    "    \n",
    "    \n",
    "def get_immediate_successor_node(target):\n",
    "    curr = target.right\n",
    "    while curr.left is not None:\n",
    "        curr = curr.left\n",
    "    return curr    \n",
    "    \n",
    "def delete(root, target):\n",
    "    if search(root, target) != \"not in tree\":\n",
    "        target = search(root,target)\n",
    "        # Case 1: leaf\n",
    "        if target.left is None and target.right is None:\n",
    "            target.item = None\n",
    "        # Case 2: single child\n",
    "        elif target.right is None:\n",
    "            target.item = target.left.item\n",
    "            target.right = target.left.right\n",
    "            target.left = target.left.left\n",
    "        elif target.left is None:\n",
    "            target.item = target.right.item\n",
    "            target.right = target.right.right\n",
    "            target.left = target.left.left\n",
    "        #Case 3: both children\n",
    "        else:\n",
    "            #left most node in right subtree\n",
    "            im_su = get_immediate_successor_node(target)\n",
    "            target.item = im_su.item\n",
    "            #no right child left\n",
    "            if im_su.right is None:\n",
    "                im_su.item = None #ERROR: doesn't delete\n",
    "            #right child adopted\n",
    "            else:\n",
    "                im_su.item = im_su.right.item\n",
    "                im_su.left = im_su.right.left\n",
    "                im_su.right = im_su.right.right"
   ]
  },
  {
   "cell_type": "code",
   "execution_count": 2,
   "metadata": {},
   "outputs": [],
   "source": [
    "def print_tree(node, level=0):\n",
    "    if node != None:\n",
    "        print_tree(node.right, level+1)\n",
    "        print(' ' * 4 * level + '-> ' + str(node.item))\n",
    "        print_tree(node.left, level+1)"
   ]
  },
  {
   "cell_type": "code",
   "execution_count": 9,
   "metadata": {
    "scrolled": true
   },
   "outputs": [
    {
     "name": "stdout",
     "output_type": "stream",
     "text": [
      "    -> 70\n",
      "-> 60\n",
      "            -> 50\n",
      "        -> 40\n",
      "            -> 30\n",
      "    -> 20\n",
      "        -> 10\n"
     ]
    }
   ],
   "source": [
    "bs_tree = TreeNode(60)\n",
    "insert(bs_tree, 20)\n",
    "insert(bs_tree, 70)\n",
    "insert(bs_tree, 10)\n",
    "insert(bs_tree, 40)\n",
    "insert(bs_tree, 30)\n",
    "#insert(bs_tree, 35) #when deleted, 30 2번 나옴\n",
    "insert(bs_tree, 50)\n",
    "print_tree(bs_tree)"
   ]
  },
  {
   "cell_type": "code",
   "execution_count": 5,
   "metadata": {},
   "outputs": [
    {
     "data": {
      "text/plain": [
       "(<__main__.TreeNode at 0x275373d3be0>, 'not in tree')"
      ]
     },
     "execution_count": 5,
     "metadata": {},
     "output_type": "execute_result"
    }
   ],
   "source": [
    "search(bs_tree, 10), search(bs_tree,55)"
   ]
  },
  {
   "cell_type": "code",
   "execution_count": 6,
   "metadata": {},
   "outputs": [],
   "source": [
    "delete(bs_tree,20)"
   ]
  },
  {
   "cell_type": "code",
   "execution_count": 7,
   "metadata": {},
   "outputs": [
    {
     "name": "stdout",
     "output_type": "stream",
     "text": [
      "    -> 70\n",
      "-> 60\n",
      "            -> 50\n",
      "        -> 40\n",
      "            -> 30\n",
      "    -> 30\n",
      "        -> 10\n"
     ]
    }
   ],
   "source": [
    "print_tree(bs_tree)"
   ]
  },
  {
   "cell_type": "markdown",
   "metadata": {},
   "source": [
    " binary search tree를 활용할 때, key만 사용하는 것이 아니라 key/value pair를 사용할 수 있다?"
   ]
  },
  {
   "cell_type": "markdown",
   "metadata": {},
   "source": [
    "### Sorting by inorder traversal"
   ]
  },
  {
   "cell_type": "code",
   "execution_count": 233,
   "metadata": {},
   "outputs": [
    {
     "name": "stdout",
     "output_type": "stream",
     "text": [
      "10\n",
      "30\n",
      "35\n",
      "40\n",
      "50\n",
      "60\n",
      "70\n"
     ]
    }
   ],
   "source": [
    "inorder(bs_tree)"
   ]
  },
  {
   "attachments": {
    "image.png": {
     "image/png": "[encoded data removed]"
    }
   },
   "cell_type": "markdown",
   "metadata": {},
   "source": [
    "### Time complexity\n",
    "![image.png](attachment:image.png)"
   ]
  },
  {
   "cell_type": "markdown",
   "metadata": {},
   "source": [
    "### Test if a binary tree is balanced."
   ]
  },
  {
   "cell_type": "code",
   "execution_count": 252,
   "metadata": {},
   "outputs": [],
   "source": [
    "def get_height(root):\n",
    "    if root is None: \n",
    "        return 0\n",
    "    return 1 + max(get_height(root.left), get_height(root.right))\n",
    "\n",
    "def isBalanced(root):\n",
    "    if root is None:\n",
    "        return True\n",
    "    condition = abs(get_height(root.left)-get_height(root.right)) <= 1\n",
    "    return isBalanced(root.left) and isBalanced(root.right) and condition"
   ]
  },
  {
   "cell_type": "code",
   "execution_count": 253,
   "metadata": {},
   "outputs": [
    {
     "name": "stdout",
     "output_type": "stream",
     "text": [
      "<__main__.TreeNode object at 0x000001E579B63BE0>\n"
     ]
    },
    {
     "data": {
      "text/plain": [
       "False"
      ]
     },
     "execution_count": 253,
     "metadata": {},
     "output_type": "execute_result"
    }
   ],
   "source": [
    "print(bs_tree)\n",
    "isBalanced(bs_tree)"
   ]
  },
  {
   "cell_type": "code",
   "execution_count": 254,
   "metadata": {
    "scrolled": true
   },
   "outputs": [
    {
     "name": "stdout",
     "output_type": "stream",
     "text": [
      "    -> 70\n",
      "-> 60\n",
      "        -> 40\n",
      "    -> 20\n",
      "        -> 10\n"
     ]
    }
   ],
   "source": [
    "bs_tree2 = TreeNode(60)\n",
    "insert(bs_tree2, 20)\n",
    "insert(bs_tree2, 10)\n",
    "insert(bs_tree2, 70)\n",
    "insert(bs_tree2, 40)\n",
    "print_tree(bs_tree2)"
   ]
  },
  {
   "cell_type": "code",
   "execution_count": 255,
   "metadata": {},
   "outputs": [
    {
     "data": {
      "text/plain": [
       "True"
      ]
     },
     "execution_count": 255,
     "metadata": {},
     "output_type": "execute_result"
    }
   ],
   "source": [
    "isBalanced(bs_tree2)"
   ]
  },
  {
   "cell_type": "markdown",
   "metadata": {},
   "source": [
    "### Test if a binary tree is symmetric."
   ]
  },
  {
   "cell_type": "code",
   "execution_count": 227,
   "metadata": {},
   "outputs": [],
   "source": [
    "def isSymmetric(root):\n",
    "    if (root.left !b= None) and (root.right != None):\n",
    "        if root.left.val == root.right.val:\n",
    "            left = root.left\n",
    "            right = root.right\n",
    "            \n",
    "            ## After swapping, left & right node should be the same\n",
    "            left.right, right.right = right.right, left.right\n",
    "            return isSymmetric(left) and isSymmetric(right)\n",
    "        \n",
    "        else:\n",
    "            return False\n",
    "    elif (root.left is None) and (root.right is None):\n",
    "        return True\n",
    "    else:\n",
    "        return False"
   ]
  },
  {
   "cell_type": "markdown",
   "metadata": {},
   "source": [
    "### Given a sorted list of items, build a balanced binary search tree"
   ]
  },
  {
   "cell_type": "code",
   "execution_count": 264,
   "metadata": {},
   "outputs": [],
   "source": [
    "def build_balanced_tree(sorted_list):\n",
    "    n = len(sorted_list)\n",
    "    if n==0:\n",
    "        return None\n",
    "    med = n//2\n",
    "    #Set the median item r to be the root\n",
    "    r = TreeNode(sorted_list[med])\n",
    "    r.left = build_balanced_tree(sorted_list[:med])\n",
    "    r.right = build_balanced_tree(sorted_list[med+1:])\n",
    "    return r"
   ]
  },
  {
   "cell_type": "code",
   "execution_count": 267,
   "metadata": {},
   "outputs": [
    {
     "name": "stdout",
     "output_type": "stream",
     "text": [
      "        -> 60\n",
      "    -> 50\n",
      "        -> 40\n",
      "-> 30\n",
      "        -> 25\n",
      "    -> 20\n",
      "        -> 10\n"
     ]
    }
   ],
   "source": [
    "bl_tree = build_balanced_tree([10,20,25,30,40,50,60])\n",
    "print_tree(bl_tree)"
   ]
  }
 ],
 "metadata": {
  "kernelspec": {
   "display_name": "Python 3",
   "language": "python",
   "name": "python3"
  },
  "language_info": {
   "codemirror_mode": {
    "name": "ipython",
    "version": 3
   },
   "file_extension": ".py",
   "mimetype": "text/x-python",
   "name": "python",
   "nbconvert_exporter": "python",
   "pygments_lexer": "ipython3",
   "version": "3.8.5"
  }
 },
 "nbformat": 4,
 "nbformat_minor": 4
}
