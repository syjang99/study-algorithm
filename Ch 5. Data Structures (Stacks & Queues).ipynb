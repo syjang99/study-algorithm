{
 "cells": [
  {
   "cell_type": "markdown",
   "metadata": {},
   "source": [
    "# Ch 5. Data Structures (Stacks & Queues)"
   ]
  },
  {
   "cell_type": "code",
   "execution_count": 231,
   "metadata": {},
   "outputs": [],
   "source": [
    "## Code from previous sessions\n",
    "\n",
    "class Node():\n",
    "    def __init__(self, x):\n",
    "        self.value = x\n",
    "        self.next = None\n",
    "\n",
    "class LinkedList():\n",
    "    def __init__(self):\n",
    "        self.first= None\n",
    "        self.size = 0\n",
    "    \n",
    "    ## insert at position i\n",
    "    def insert(self, x, i):\n",
    "        if i == 0:\n",
    "            new_node = Node(x)\n",
    "            new_node.next = self.first\n",
    "            self.first = new_node\n",
    "            self.size +=1\n",
    "            \n",
    "        elif i <= self.size:\n",
    "            new_node = Node(x)\n",
    "            pos = 0\n",
    "            curr = self.first\n",
    "            while pos < (i-1) :\n",
    "                curr = curr.next\n",
    "                pos += 1\n",
    "            new_node.next = curr.next\n",
    "            curr.next = new_node \n",
    "            self.size += 1\n",
    "        else: \n",
    "            return \"Wrong input\"\n",
    "        \n",
    "    ## get item at [i]\n",
    "    def get(self, i):  \n",
    "        if i < self.size:\n",
    "            curr = self.first\n",
    "            for j in range(i):\n",
    "                curr = curr.next\n",
    "            return curr.value\n",
    "        else: \n",
    "            return \"Wrong input\"\n",
    "    \n",
    "    ## delete item at [i]\n",
    "    def delete(self, i):\n",
    "        if i == 0:\n",
    "            self.first = self.first.next\n",
    "            self.size -= 1\n",
    "        elif i < (self.size-1):\n",
    "            pos = 0\n",
    "            curr = self.first\n",
    "            while pos < (i-1):\n",
    "                curr = curr.next\n",
    "                pos += 1\n",
    "            curr.next = curr.next.next\n",
    "            self.size -= 1\n",
    "        \n",
    "        else:\n",
    "            return \"Wrong input\"\n",
    "           \n",
    "    ## empty or not\n",
    "    def is_empty(self):\n",
    "        return (self.size == 0)"
   ]
  },
  {
   "cell_type": "code",
   "execution_count": 232,
   "metadata": {},
   "outputs": [
    {
     "data": {
      "text/plain": [
       "(0, 1, 2)"
      ]
     },
     "execution_count": 232,
     "metadata": {},
     "output_type": "execute_result"
    }
   ],
   "source": [
    "a = LinkedList()\n",
    "a.insert(0,0)\n",
    "a.insert(1,1)\n",
    "a.insert(2,2)\n",
    "a.get(0),a.get(1),a.get(2)"
   ]
  },
  {
   "cell_type": "markdown",
   "metadata": {},
   "source": [
    "## 📌 Stacks\n",
    "- Last in, first out rule\n",
    "  - ex) Cafeteria dishes, backspace keyboard\n",
    "- Time complexity for insertion, retrieval, and deletion are all **O(1)**!\n",
    "  - Stack is more efficient than (more linked list general) array or linked list, if the data \n",
    "and problem satisfy stack’s condition"
   ]
  },
  {
   "cell_type": "markdown",
   "metadata": {},
   "source": [
    "### Array-based implementation"
   ]
  },
  {
   "cell_type": "code",
   "execution_count": 233,
   "metadata": {
    "scrolled": true
   },
   "outputs": [],
   "source": [
    "## using self.top\n",
    "class Stack():\n",
    "    def __init__(self):\n",
    "        self.data = []\n",
    "        self.top = -1   #initially set as -1\n",
    "    \n",
    "    def is_empty(self):\n",
    "        return (self.top == -1)\n",
    "    \n",
    "    def push(self, x):\n",
    "        self.data.append(x)\n",
    "        self.top += 1\n",
    "            \n",
    "    def peek(self):\n",
    "        if not self.is_empty():\n",
    "            return self.data[self.top]\n",
    "    \n",
    "    def pop(self):\n",
    "        if not self.is_empty():\n",
    "            del self.data[self.top] #없어도 되지만 메모리 줄이기 위해..!\n",
    "            self.top -= 1"
   ]
  },
  {
   "cell_type": "code",
   "execution_count": 234,
   "metadata": {},
   "outputs": [
    {
     "name": "stdout",
     "output_type": "stream",
     "text": [
      "17\n",
      "22\n"
     ]
    }
   ],
   "source": [
    "stack = Stack()\n",
    "stack.push(3)\n",
    "stack.push(15)\n",
    "stack.push(22)\n",
    "stack.push(17)\n",
    "print(stack.peek())\n",
    "stack.pop()\n",
    "print(stack.peek())"
   ]
  },
  {
   "cell_type": "code",
   "execution_count": 235,
   "metadata": {},
   "outputs": [],
   "source": [
    "## Not using self.top"
   ]
  },
  {
   "cell_type": "markdown",
   "metadata": {},
   "source": [
    "### Reference-based stacks\n",
    "- use the linked list class that we already made!"
   ]
  },
  {
   "cell_type": "code",
   "execution_count": 236,
   "metadata": {},
   "outputs": [],
   "source": [
    "class Stack():\n",
    "    def __init__(self):\n",
    "        self.data = LinkedList()\n",
    "        \n",
    "    def is_empty(self):\n",
    "        return self.data.is_empty()\n",
    "    \n",
    "    def push(self, x):\n",
    "        self.data.insert(x,0)  #맨 앞 = most recent\n",
    "    \n",
    "    def peek(self):\n",
    "        return self.data.get(0)\n",
    "    \n",
    "    def pop(self):\n",
    "        self.data.delete(0)"
   ]
  },
  {
   "cell_type": "code",
   "execution_count": 237,
   "metadata": {},
   "outputs": [
    {
     "name": "stdout",
     "output_type": "stream",
     "text": [
      "17\n",
      "22\n"
     ]
    }
   ],
   "source": [
    "stack = Stack()\n",
    "stack.push(3)\n",
    "stack.push(15)\n",
    "stack.push(22)\n",
    "stack.push(17)\n",
    "print(stack.peek())\n",
    "stack.pop()\n",
    "print(stack.peek())"
   ]
  },
  {
   "cell_type": "markdown",
   "metadata": {},
   "source": [
    "### ❓ Reference-based stacks w/ the last item as the most recent"
   ]
  },
  {
   "cell_type": "markdown",
   "metadata": {},
   "source": [
    "### ❓ Search in flight map"
   ]
  },
  {
   "cell_type": "markdown",
   "metadata": {},
   "source": [
    "## 📌 Queues"
   ]
  },
  {
   "cell_type": "markdown",
   "metadata": {},
   "source": [
    "### Array-based queue"
   ]
  },
  {
   "cell_type": "code",
   "execution_count": 238,
   "metadata": {},
   "outputs": [],
   "source": [
    "class Queue():\n",
    "    def __init__(self):\n",
    "        self.data = []\n",
    "        self.last = -1\n",
    "    \n",
    "    def is_empty(self):\n",
    "        return (self.last == -1)\n",
    "    \n",
    "    # Enter a new value to the queue \n",
    "    def enqueue(self, x):\n",
    "        self.data.append(x)\n",
    "        self.last += 1\n",
    "    \n",
    "    def dequeue(self):\n",
    "    # Delete the oldest item\n",
    "        del self.data[0]     #사실 이거 말고 다른 방식 써야함..\n",
    "        self.last -= 1\n",
    "    \n",
    "    # Retrieve the oldest item\n",
    "    def peek(self):\n",
    "        if not self.is_empty():\n",
    "            return self.data[0]\n",
    "        else: \n",
    "            return None "
   ]
  },
  {
   "cell_type": "markdown",
   "metadata": {},
   "source": [
    "### Reference-based queue\n",
    ": Best case for queues!"
   ]
  },
  {
   "cell_type": "code",
   "execution_count": 239,
   "metadata": {},
   "outputs": [],
   "source": [
    "class Queue(): #맨 뒤 = most recent!\n",
    "    def __init__(self):\n",
    "        self.data = LinkedList()\n",
    "        self.last = None\n",
    "        \n",
    "    def is_empty(self):\n",
    "        return self.data.is_empty()\n",
    "    \n",
    "    def enqueue(self, x):\n",
    "        new_node = Node(x)\n",
    "        if self.last is None:  #비어있으면\n",
    "            self.data.first = new_node\n",
    "        else:\n",
    "            self.last.next = new_node\n",
    "        self.last = new_node  \n",
    "        \n",
    "    def dequeue(self):\n",
    "        # delete the oldest item\n",
    "        if not self.data.is_empty():\n",
    "            self.data.delete(0)\n",
    "        if self.data.is_empty():\n",
    "            self.last=None\n",
    "    \n",
    "    def peek(self):\n",
    "        # retrieve the oldest item\n",
    "        if not self.data.is_empty():\n",
    "            return self.data.get(0) "
   ]
  },
  {
   "cell_type": "code",
   "execution_count": 240,
   "metadata": {},
   "outputs": [
    {
     "name": "stdout",
     "output_type": "stream",
     "text": [
      "1\n",
      "2\n",
      "3\n"
     ]
    }
   ],
   "source": [
    "q = Queue()\n",
    "q.enqueue(1)\n",
    "q.enqueue(2)\n",
    "q.enqueue(3)\n",
    "q.dequeue()\n",
    "curr = q.data.first\n",
    "while curr is not None:\n",
    "    print(curr.value)\n",
    "    curr = curr.next"
   ]
  },
  {
   "cell_type": "markdown",
   "metadata": {},
   "source": [
    "### ❓  Implement queue using two stacks.\n",
    "- Main idea: use the first stack for enqueue, and the other for dequeue.\n",
    "- Whenever we get a dequeue request but the second stack is empty, pop all elements from the first stack and push them into the second stack."
   ]
  },
  {
   "cell_type": "code",
   "execution_count": 241,
   "metadata": {},
   "outputs": [],
   "source": [
    "class new_Queue():\n",
    "    def __init__(self):\n",
    "        self.stack1 = Stack()\n",
    "        self.stack2 = Stack()\n",
    "    \n",
    "    def enqueue(self,x):\n",
    "        # stack2 활용하여 stack1에 데이터 거꾸로 저장하기\n",
    "        if not self.stack1.is_empty():\n",
    "            \n",
    "        # stack1 내 데이터 전부 stack2로 push\n",
    "            while not self.stack1.is_empty():\n",
    "                dat = self.stack1.peek()\n",
    "                self.stack1.pop()\n",
    "                self.stack2.push(dat)\n",
    "        \n",
    "        #stack1에 새로 넣을 x push\n",
    "            self.stack1.push(x)\n",
    "        \n",
    "        #stack2 내 데이터 전부 stack1로 push\n",
    "            while not self.stack2.is_empty():\n",
    "                dat = self.stack2.peek()\n",
    "                self.stack2.pop()\n",
    "                self.stack1.push(dat)\n",
    "        else:\n",
    "            self.stack1.push(x)\n",
    "    \n",
    "    def dequeue(self):\n",
    "        if not self.stack1.is_empty():\n",
    "            self.stack1.pop()\n",
    "    \n",
    "    def peek(self):\n",
    "        return self.stack1.peek()"
   ]
  },
  {
   "cell_type": "code",
   "execution_count": 242,
   "metadata": {
    "scrolled": true
   },
   "outputs": [
    {
     "data": {
      "text/plain": [
       "3"
      ]
     },
     "execution_count": 242,
     "metadata": {},
     "output_type": "execute_result"
    }
   ],
   "source": [
    "lst = [1,2,3,4,5,6]\n",
    "q = new_Queue()\n",
    "for item in lst:\n",
    "    q.enqueue(item)\n",
    "q.dequeue()\n",
    "q.dequeue()\n",
    "q.peek()"
   ]
  },
  {
   "cell_type": "code",
   "execution_count": 243,
   "metadata": {},
   "outputs": [],
   "source": [
    "class new_Queue:\n",
    "    def __init__(self):\n",
    "        self.stack1 = Stack()\n",
    "        self.stack2 = Stack()\n",
    "    def enqueue(self, item):\n",
    "        #recent item이 제일 위에 있는 stack1\n",
    "        self.stack1.push(item)\n",
    "    def dequeue(self):\n",
    "        if not self.stack1.is_empty():\n",
    "            #stack2에 순서 반대로 저장한 후, pop\n",
    "            while not self.stack1.is_empty():\n",
    "                a = self.stack1.peek()\n",
    "                self.stack1.pop()\n",
    "                self.stack2.push(a)\n",
    "            self.stack2.pop()\n",
    "            \n",
    "            #다시 stack1에 순서 바꿔 저장\n",
    "            while not self.stack2.is_empty():\n",
    "                a = self.stack2.peek()\n",
    "                self.stack2.pop()\n",
    "                self.stack1.push(a)\n",
    "                \n",
    "    def peek(self):\n",
    "        if not self.stack1.is_empty():\n",
    "            #stack2에 순서 반대로 저장한 후, pop\n",
    "            while not self.stack1.is_empty():\n",
    "                a = self.stack1.peek()\n",
    "                self.stack1.pop()\n",
    "                self.stack2.push(a)\n",
    "            result = self.stack2.peek()\n",
    "            \n",
    "            #다시 stack1에 순서 바꿔 저장\n",
    "            while not self.stack2.is_empty():\n",
    "                a = self.stack2.peek()\n",
    "                self.stack2.pop()\n",
    "                self.stack1.push(a)\n",
    "            return result"
   ]
  },
  {
   "cell_type": "code",
   "execution_count": 244,
   "metadata": {
    "scrolled": true
   },
   "outputs": [
    {
     "data": {
      "text/plain": [
       "3"
      ]
     },
     "execution_count": 244,
     "metadata": {},
     "output_type": "execute_result"
    }
   ],
   "source": [
    "lst = [1,2,3,4,5,6]\n",
    "q = new_Queue()\n",
    "for item in lst:\n",
    "    q.enqueue(item)\n",
    "q.dequeue()\n",
    "q.dequeue()\n",
    "q.peek()"
   ]
  }
 ],
 "metadata": {
  "kernelspec": {
   "display_name": "Python 3",
   "language": "python",
   "name": "python3"
  },
  "language_info": {
   "codemirror_mode": {
    "name": "ipython",
    "version": 3
   },
   "file_extension": ".py",
   "mimetype": "text/x-python",
   "name": "python",
   "nbconvert_exporter": "python",
   "pygments_lexer": "ipython3",
   "version": "3.8.5"
  }
 },
 "nbformat": 4,
 "nbformat_minor": 4
}
